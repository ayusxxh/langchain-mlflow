{
 "cells": [
  {
   "cell_type": "code",
   "execution_count": 17,
   "metadata": {},
   "outputs": [],
   "source": [
    "from langchain_community.vectorstores import Chroma\n",
    "from langchain_text_splitters import RecursiveCharacterTextSplitter\n",
    "from langchain_openai import ChatOpenAI, OpenAIEmbeddings\n",
    "from langchain_community.document_loaders import PyPDFLoader\n",
    "from langchain.chains import RetrievalQA\n",
    "import json"
   ]
  },
  {
   "cell_type": "code",
   "execution_count": 18,
   "metadata": {},
   "outputs": [
    {
     "data": {
      "text/plain": [
       "True"
      ]
     },
     "execution_count": 18,
     "metadata": {},
     "output_type": "execute_result"
    }
   ],
   "source": [
    "import os\n",
    "from dotenv import load_dotenv\n",
    "load_dotenv()"
   ]
  },
  {
   "cell_type": "code",
   "execution_count": 29,
   "metadata": {},
   "outputs": [],
   "source": [
    "dir_path = \"contracts\""
   ]
  },
  {
   "cell_type": "code",
   "execution_count": 21,
   "metadata": {},
   "outputs": [],
   "source": [
    "def get_pdf_files(directory):\n",
    "    return [os.path.join(directory, f) for f in os.listdir(directory) if f.endswith('.pdf')]\n"
   ]
  },
  {
   "cell_type": "code",
   "execution_count": 28,
   "metadata": {},
   "outputs": [
    {
     "name": "stdout",
     "output_type": "stream",
     "text": [
      "Processing C:\\Users\\ayush\\OneDrive\\Desktop\\EY\\EYII\\fine_tuning\\contracts\\09 - Exhibit I - ATB_-_Chinook_-_General_Security_Agreement_-_CPI_-_CPI.pdf...\n",
      "Results for 09 - Exhibit I - ATB_-_Chinook_-_General_Security_Agreement_-_CPI_-_CPI.pdf:\n",
      "Agreement type: AgreementType\n",
      "\n",
      "==================================================\n",
      "\n",
      "Processing C:\\Users\\ayush\\OneDrive\\Desktop\\EY\\EYII\\fine_tuning\\contracts\\FORM OF GLOBAL CUSTODY AGREEMENT WITH JP MORGAN CHASE.pdf...\n",
      "Results for FORM OF GLOBAL CUSTODY AGREEMENT WITH JP MORGAN CHASE.pdf:\n",
      "Agreement type: AgreementType\n",
      "\n",
      "==================================================\n",
      "\n",
      "Processing C:\\Users\\ayush\\OneDrive\\Desktop\\EY\\EYII\\fine_tuning\\contracts\\FORM OF MASTER GLOBAL CUSTODY AGREEMENT.pdf...\n",
      "Results for FORM OF MASTER GLOBAL CUSTODY AGREEMENT.pdf:\n",
      "Agreement type: Agreement Type\n",
      "\n",
      "==================================================\n",
      "\n",
      "Processing C:\\Users\\ayush\\OneDrive\\Desktop\\EY\\EYII\\fine_tuning\\contracts\\Global Custody Agreement For Foreign and Domestic.pdf...\n",
      "Results for Global Custody Agreement For Foreign and Domestic.pdf:\n",
      "Agreement type: AgreementType\n",
      "\n",
      "==================================================\n",
      "\n",
      "Processing C:\\Users\\ayush\\OneDrive\\Desktop\\EY\\EYII\\fine_tuning\\contracts\\sec.gov_Archives_edgar_data_1850938_000114036121016657_nt10021433x4_ex10-2.htm.pdf...\n",
      "Results for sec.gov_Archives_edgar_data_1850938_000114036121016657_nt10021433x4_ex10-2.htm.pdf:\n",
      "Agreement type: AgreementType\n",
      "\n",
      "==================================================\n",
      "\n",
      "Processing C:\\Users\\ayush\\OneDrive\\Desktop\\EY\\EYII\\fine_tuning\\contracts\\sec.gov_Archives_edgar_data_1869991_000005193121001052_exhg.htm.pdf...\n",
      "Results for sec.gov_Archives_edgar_data_1869991_000005193121001052_exhg.htm.pdf:\n",
      "Agreement type: Agreement Type\n",
      "\n",
      "==================================================\n",
      "\n",
      "Processing C:\\Users\\ayush\\OneDrive\\Desktop\\EY\\EYII\\fine_tuning\\contracts\\Security Agreement 3122003 Word.pdf...\n",
      "Results for Security Agreement 3122003 Word.pdf:\n",
      "Agreement type: AgreementType\n",
      "\n",
      "==================================================\n",
      "\n",
      "Processing C:\\Users\\ayush\\OneDrive\\Desktop\\EY\\EYII\\fine_tuning\\contracts\\US_TERMS_COND-0056.pdf...\n",
      "Results for US_TERMS_COND-0056.pdf:\n",
      "Agreement type: AgreementType\n",
      "\n",
      "==================================================\n",
      "\n"
     ]
    }
   ],
   "source": [
    "def process_pdf(file_path):\n",
    "    # Load PDF\n",
    "    loader = PyPDFLoader(file_path)\n",
    "    data = loader.load()\n",
    "    text_splitter = RecursiveCharacterTextSplitter(chunk_size=1000, chunk_overlap=100)\n",
    "    all_splits = text_splitter.split_documents(data)\n",
    "\n",
    "    # Create vector store\n",
    "    embeddings = OpenAIEmbeddings()\n",
    "    vectorstore = Chroma.from_documents(documents=all_splits, embedding=embeddings)\n",
    "\n",
    "    # Create language model\n",
    "    llm = ChatOpenAI(temperature=0, model_name=\"gpt-3.5-turbo\")\n",
    "\n",
    "    # Create RetrievalQA chain\n",
    "    qa_chain = RetrievalQA.from_chain_type(\n",
    "        llm=llm,\n",
    "        chain_type=\"stuff\",\n",
    "        retriever=vectorstore.as_retriever()\n",
    "    )\n",
    "    prompts = {\n",
    "        \"Agreement type\": \"Extract the Agreement type from the following text, : {text}. Format the response as a JSON array.\",\n",
    "        #\"Full Legal Name\": \"Extract the Full Legal Name from the following text: {text}. Format the response as a JSON array.\",\n",
    "        #\"SEC File number\": \"List all SEC File numbers mentioned in the document. Format the response as a JSON array.\",\n",
    "        #\"Address\": \"List all complete addresses mentioned in the document. Format the response as a JSON array.\",\n",
    "        #\"Name of investment advisor\": \"List all names of investment advisors mentioned in the document. Format the response as a JSON array.\"\n",
    "    }\n",
    "\n",
    "    # Extract entities\n",
    "    results = []\n",
    "    for entity, prompt in prompts.items():\n",
    "        response = qa_chain.invoke({\"query\": prompt})\n",
    "        try:\n",
    "            values = json.loads(response['result'])\n",
    "        except json.JSONDecodeError:\n",
    "            values = [response['result'].strip()]\n",
    "        \n",
    "        for value in values:\n",
    "            results.append({\n",
    "                \"Entity_Name\": entity,\n",
    "                \"Entity_Value\": value\n",
    "            })\n",
    "\n",
    "    return results\n",
    "\n",
    "# Get all PDF files\n",
    "pdf_files = get_pdf_files(dir_path)\n",
    "\n",
    "# Process each PDF file\n",
    "for pdf_file in pdf_files:\n",
    "    print(f\"Processing {pdf_file}...\")\n",
    "    try:\n",
    "        extracted_entities = process_pdf(pdf_file)\n",
    "        \n",
    "        print(f\"Results for {os.path.basename(pdf_file)}:\")\n",
    "        for entity in extracted_entities:\n",
    "            print(f\"{entity['Entity_Name']}: {entity['Entity_Value']}\")\n",
    "        print(\"\\n\" + \"=\"*50 + \"\\n\")\n",
    "    except Exception as e:\n",
    "        print(f\"Error processing {pdf_file}: {str(e)}\")\n",
    "        print(\"\\n\" + \"=\"*50 + \"\\n\")    "
   ]
  },
  {
   "cell_type": "code",
   "execution_count": null,
   "metadata": {},
   "outputs": [],
   "source": []
  }
 ],
 "metadata": {
  "kernelspec": {
   "display_name": "base",
   "language": "python",
   "name": "python3"
  },
  "language_info": {
   "codemirror_mode": {
    "name": "ipython",
    "version": 3
   },
   "file_extension": ".py",
   "mimetype": "text/x-python",
   "name": "python",
   "nbconvert_exporter": "python",
   "pygments_lexer": "ipython3",
   "version": "3.11.3"
  }
 },
 "nbformat": 4,
 "nbformat_minor": 2
}
